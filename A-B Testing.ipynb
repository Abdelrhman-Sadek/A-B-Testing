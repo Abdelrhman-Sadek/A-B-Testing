{
 "cells": [
  {
   "attachments": {},
   "cell_type": "markdown",
   "metadata": {},
   "source": [
    "# import Libraries and set settings "
   ]
  },
  {
   "cell_type": "code",
   "execution_count": 1,
   "metadata": {},
   "outputs": [],
   "source": [
    "import numpy as np \n",
    "import pandas as pd \n",
    "import matplotlib.pyplot as plt\n",
    "import seaborn as sns\n",
    "import warnings\n",
    "warnings.filterwarnings(\"ignore\")\n",
    "warnings.simplefilter(action='ignore', category=FutureWarning)\n",
    "import statsmodels.stats.api as sms\n",
    "from scipy.stats import ttest_1samp, shapiro, levene, ttest_ind, mannwhitneyu, \\\n",
    "    pearsonr, spearmanr, kendalltau, f_oneway, kruskal, normaltest\n",
    "from statsmodels.stats.proportion import proportions_ztest"
   ]
  },
  {
   "cell_type": "code",
   "execution_count": 2,
   "metadata": {},
   "outputs": [],
   "source": [
    "pd.set_option('display.max_columns', None)\n",
    "pd.set_option('display.max_rows', 10)\n",
    "pd.set_option('display.float_format', lambda x: '%.5f' % x)"
   ]
  },
  {
   "cell_type": "code",
   "execution_count": 3,
   "metadata": {},
   "outputs": [],
   "source": [
    "def data_info(data):\n",
    "  print(50*' ',20*'^','About The Data','^'*20,2*\"\\n\")\n",
    "  print(2*\"\\n\",\"Data Info:\",2*\"\\n\")\n",
    "  print(data.info())\n",
    "  print(f'\\n \\nNull Conut:\\n{data.isnull().sum()} \\n\\n ')\n",
    "  uniques=[]\n",
    "  for i in data.columns:\n",
    "    if  data[i].nunique()<10:\n",
    "      uniques.append(i)\n",
    "  print(f'\\n \\nNumber of unique columns ={len(uniques)}\\n Names: {uniques}')\n",
    "  for i in data.columns:\n",
    "    if  data[i].nunique()<10:\n",
    "      print(f'\\n \\nNumber Of Unique Cols In {i} = {data[i].nunique()}\\n Values Are: \\n{data[i].unique()}')\n",
    "    elif data[i].nunique()<10:\n",
    "      return 'No unique values'\n",
    "  print(50*' ',20*'^','Data Statstics',20*'^',2*'\\n')\n",
    "  for i in data.columns:\n",
    "    print(f'\\nStatstics for {i} is: \\n{data[i].describe()} \\n \\n')"
   ]
  },
  {
   "cell_type": "code",
   "execution_count": 4,
   "metadata": {},
   "outputs": [
    {
     "data": {
      "text/html": [
       "<div>\n",
       "<style scoped>\n",
       "    .dataframe tbody tr th:only-of-type {\n",
       "        vertical-align: middle;\n",
       "    }\n",
       "\n",
       "    .dataframe tbody tr th {\n",
       "        vertical-align: top;\n",
       "    }\n",
       "\n",
       "    .dataframe thead th {\n",
       "        text-align: right;\n",
       "    }\n",
       "</style>\n",
       "<table border=\"1\" class=\"dataframe\">\n",
       "  <thead>\n",
       "    <tr style=\"text-align: right;\">\n",
       "      <th></th>\n",
       "      <th>USER_ID</th>\n",
       "      <th>VARIANT_NAME</th>\n",
       "      <th>REVENUE</th>\n",
       "    </tr>\n",
       "  </thead>\n",
       "  <tbody>\n",
       "    <tr>\n",
       "      <th>0</th>\n",
       "      <td>737</td>\n",
       "      <td>variant</td>\n",
       "      <td>0.00000</td>\n",
       "    </tr>\n",
       "    <tr>\n",
       "      <th>1</th>\n",
       "      <td>2423</td>\n",
       "      <td>control</td>\n",
       "      <td>0.00000</td>\n",
       "    </tr>\n",
       "    <tr>\n",
       "      <th>2</th>\n",
       "      <td>9411</td>\n",
       "      <td>control</td>\n",
       "      <td>0.00000</td>\n",
       "    </tr>\n",
       "    <tr>\n",
       "      <th>3</th>\n",
       "      <td>7311</td>\n",
       "      <td>control</td>\n",
       "      <td>0.00000</td>\n",
       "    </tr>\n",
       "    <tr>\n",
       "      <th>4</th>\n",
       "      <td>6174</td>\n",
       "      <td>variant</td>\n",
       "      <td>0.00000</td>\n",
       "    </tr>\n",
       "  </tbody>\n",
       "</table>\n",
       "</div>"
      ],
      "text/plain": [
       "   USER_ID VARIANT_NAME  REVENUE\n",
       "0      737      variant  0.00000\n",
       "1     2423      control  0.00000\n",
       "2     9411      control  0.00000\n",
       "3     7311      control  0.00000\n",
       "4     6174      variant  0.00000"
      ]
     },
     "execution_count": 4,
     "metadata": {},
     "output_type": "execute_result"
    }
   ],
   "source": [
    "df=pd.read_csv('E:\\\\py\\Data\\\\A-B testing\\\\AB_Test_Results.csv')\n",
    "df.head()"
   ]
  },
  {
   "cell_type": "code",
   "execution_count": 5,
   "metadata": {},
   "outputs": [
    {
     "data": {
      "text/html": [
       "<div>\n",
       "<style scoped>\n",
       "    .dataframe tbody tr th:only-of-type {\n",
       "        vertical-align: middle;\n",
       "    }\n",
       "\n",
       "    .dataframe tbody tr th {\n",
       "        vertical-align: top;\n",
       "    }\n",
       "\n",
       "    .dataframe thead th {\n",
       "        text-align: right;\n",
       "    }\n",
       "</style>\n",
       "<table border=\"1\" class=\"dataframe\">\n",
       "  <thead>\n",
       "    <tr style=\"text-align: right;\">\n",
       "      <th></th>\n",
       "      <th>USER_ID</th>\n",
       "      <th>VARIANT_NAME</th>\n",
       "      <th>REVENUE</th>\n",
       "    </tr>\n",
       "  </thead>\n",
       "  <tbody>\n",
       "    <tr>\n",
       "      <th>9995</th>\n",
       "      <td>1981</td>\n",
       "      <td>control</td>\n",
       "      <td>0.00000</td>\n",
       "    </tr>\n",
       "    <tr>\n",
       "      <th>9996</th>\n",
       "      <td>502</td>\n",
       "      <td>variant</td>\n",
       "      <td>0.00000</td>\n",
       "    </tr>\n",
       "    <tr>\n",
       "      <th>9997</th>\n",
       "      <td>9214</td>\n",
       "      <td>variant</td>\n",
       "      <td>0.00000</td>\n",
       "    </tr>\n",
       "    <tr>\n",
       "      <th>9998</th>\n",
       "      <td>7741</td>\n",
       "      <td>control</td>\n",
       "      <td>0.00000</td>\n",
       "    </tr>\n",
       "    <tr>\n",
       "      <th>9999</th>\n",
       "      <td>9468</td>\n",
       "      <td>control</td>\n",
       "      <td>0.00000</td>\n",
       "    </tr>\n",
       "  </tbody>\n",
       "</table>\n",
       "</div>"
      ],
      "text/plain": [
       "      USER_ID VARIANT_NAME  REVENUE\n",
       "9995     1981      control  0.00000\n",
       "9996      502      variant  0.00000\n",
       "9997     9214      variant  0.00000\n",
       "9998     7741      control  0.00000\n",
       "9999     9468      control  0.00000"
      ]
     },
     "execution_count": 5,
     "metadata": {},
     "output_type": "execute_result"
    }
   ],
   "source": [
    "df.tail()"
   ]
  },
  {
   "cell_type": "code",
   "execution_count": 6,
   "metadata": {},
   "outputs": [
    {
     "name": "stdout",
     "output_type": "stream",
     "text": [
      "                                                   ^^^^^^^^^^^^^^^^^^^^ About The Data ^^^^^^^^^^^^^^^^^^^^ \n",
      "\n",
      "\n",
      "\n",
      "\n",
      " Data Info: \n",
      "\n",
      "\n",
      "<class 'pandas.core.frame.DataFrame'>\n",
      "RangeIndex: 10000 entries, 0 to 9999\n",
      "Data columns (total 3 columns):\n",
      " #   Column        Non-Null Count  Dtype  \n",
      "---  ------        --------------  -----  \n",
      " 0   USER_ID       10000 non-null  int64  \n",
      " 1   VARIANT_NAME  10000 non-null  object \n",
      " 2   REVENUE       10000 non-null  float64\n",
      "dtypes: float64(1), int64(1), object(1)\n",
      "memory usage: 234.5+ KB\n",
      "None\n",
      "\n",
      " \n",
      "Null Conut:\n",
      "USER_ID         0\n",
      "VARIANT_NAME    0\n",
      "REVENUE         0\n",
      "dtype: int64 \n",
      "\n",
      " \n",
      "\n",
      " \n",
      "Number of unique columns =1\n",
      " Names: ['VARIANT_NAME']\n",
      "\n",
      " \n",
      "Number Of Unique Cols In VARIANT_NAME = 2\n",
      " Values Are: \n",
      "['variant' 'control']\n",
      "                                                   ^^^^^^^^^^^^^^^^^^^^ Data Statstics ^^^^^^^^^^^^^^^^^^^^ \n",
      "\n",
      "\n",
      "\n",
      "Statstics for USER_ID is: \n",
      "count   10000.00000\n",
      "mean     4981.08020\n",
      "std      2890.59011\n",
      "min         2.00000\n",
      "25%      2468.75000\n",
      "50%      4962.00000\n",
      "75%      7511.50000\n",
      "max     10000.00000\n",
      "Name: USER_ID, dtype: float64 \n",
      " \n",
      "\n",
      "\n",
      "Statstics for VARIANT_NAME is: \n",
      "count       10000\n",
      "unique          2\n",
      "top       variant\n",
      "freq         5016\n",
      "Name: VARIANT_NAME, dtype: object \n",
      " \n",
      "\n",
      "\n",
      "Statstics for REVENUE is: \n",
      "count   10000.00000\n",
      "mean        0.09945\n",
      "std         2.31853\n",
      "min         0.00000\n",
      "25%         0.00000\n",
      "50%         0.00000\n",
      "75%         0.00000\n",
      "max       196.01000\n",
      "Name: REVENUE, dtype: float64 \n",
      " \n",
      "\n"
     ]
    }
   ],
   "source": [
    "data_info(df)"
   ]
  },
  {
   "cell_type": "code",
   "execution_count": 7,
   "metadata": {},
   "outputs": [
    {
     "data": {
      "text/plain": [
       "3676"
      ]
     },
     "execution_count": 7,
     "metadata": {},
     "output_type": "execute_result"
    }
   ],
   "source": [
    "df['USER_ID'].duplicated().sum()"
   ]
  },
  {
   "attachments": {},
   "cell_type": "markdown",
   "metadata": {},
   "source": [
    "USER_ID may contanis duplicates in the VARIANT_NAME and that will effect the acuracy of the test \n",
    "<br>\n",
    "so we have to make sure that all users are form the same gruop"
   ]
  },
  {
   "cell_type": "code",
   "execution_count": 8,
   "metadata": {},
   "outputs": [],
   "source": [
    "# remove USER_ID who are in two different VARIANT \n",
    "\n",
    "duplicates = (df.groupby(\"USER_ID\")[\"VARIANT_NAME\"].nunique() == True)\n",
    "duplicates = duplicates[duplicates]\n",
    "\n",
    "# USER_ID_nunique data\n",
    "\n",
    "df = df[df[\"USER_ID\"].isin(duplicates.index)]"
   ]
  },
  {
   "attachments": {},
   "cell_type": "markdown",
   "metadata": {},
   "source": [
    "All users know are in one group"
   ]
  },
  {
   "cell_type": "code",
   "execution_count": 9,
   "metadata": {},
   "outputs": [
    {
     "data": {
      "text/html": [
       "<div>\n",
       "<style scoped>\n",
       "    .dataframe tbody tr th:only-of-type {\n",
       "        vertical-align: middle;\n",
       "    }\n",
       "\n",
       "    .dataframe tbody tr th {\n",
       "        vertical-align: top;\n",
       "    }\n",
       "\n",
       "    .dataframe thead th {\n",
       "        text-align: right;\n",
       "    }\n",
       "</style>\n",
       "<table border=\"1\" class=\"dataframe\">\n",
       "  <thead>\n",
       "    <tr style=\"text-align: right;\">\n",
       "      <th></th>\n",
       "      <th>USER_ID</th>\n",
       "      <th>VARIANT_NAME</th>\n",
       "      <th>REVENUE</th>\n",
       "    </tr>\n",
       "  </thead>\n",
       "  <tbody>\n",
       "    <tr>\n",
       "      <th>1437</th>\n",
       "      <td>3342</td>\n",
       "      <td>control</td>\n",
       "      <td>196.01000</td>\n",
       "    </tr>\n",
       "    <tr>\n",
       "      <th>8168</th>\n",
       "      <td>2166</td>\n",
       "      <td>control</td>\n",
       "      <td>29.32000</td>\n",
       "    </tr>\n",
       "    <tr>\n",
       "      <th>2482</th>\n",
       "      <td>7356</td>\n",
       "      <td>variant</td>\n",
       "      <td>23.04000</td>\n",
       "    </tr>\n",
       "    <tr>\n",
       "      <th>6412</th>\n",
       "      <td>1053</td>\n",
       "      <td>control</td>\n",
       "      <td>20.07000</td>\n",
       "    </tr>\n",
       "    <tr>\n",
       "      <th>5217</th>\n",
       "      <td>3684</td>\n",
       "      <td>variant</td>\n",
       "      <td>19.47000</td>\n",
       "    </tr>\n",
       "    <tr>\n",
       "      <th>5530</th>\n",
       "      <td>282</td>\n",
       "      <td>control</td>\n",
       "      <td>18.56000</td>\n",
       "    </tr>\n",
       "    <tr>\n",
       "      <th>758</th>\n",
       "      <td>4445</td>\n",
       "      <td>control</td>\n",
       "      <td>17.05000</td>\n",
       "    </tr>\n",
       "    <tr>\n",
       "      <th>4031</th>\n",
       "      <td>2059</td>\n",
       "      <td>control</td>\n",
       "      <td>14.24000</td>\n",
       "    </tr>\n",
       "    <tr>\n",
       "      <th>9019</th>\n",
       "      <td>1973</td>\n",
       "      <td>control</td>\n",
       "      <td>14.07000</td>\n",
       "    </tr>\n",
       "    <tr>\n",
       "      <th>4561</th>\n",
       "      <td>4966</td>\n",
       "      <td>variant</td>\n",
       "      <td>12.99000</td>\n",
       "    </tr>\n",
       "  </tbody>\n",
       "</table>\n",
       "</div>"
      ],
      "text/plain": [
       "      USER_ID VARIANT_NAME   REVENUE\n",
       "1437     3342      control 196.01000\n",
       "8168     2166      control  29.32000\n",
       "2482     7356      variant  23.04000\n",
       "6412     1053      control  20.07000\n",
       "5217     3684      variant  19.47000\n",
       "5530      282      control  18.56000\n",
       "758      4445      control  17.05000\n",
       "4031     2059      control  14.24000\n",
       "9019     1973      control  14.07000\n",
       "4561     4966      variant  12.99000"
      ]
     },
     "execution_count": 9,
     "metadata": {},
     "output_type": "execute_result"
    }
   ],
   "source": [
    "df.sort_values(by='REVENUE',ascending=False).head(10)"
   ]
  },
  {
   "attachments": {},
   "cell_type": "markdown",
   "metadata": {},
   "source": [
    "A/B groups stats"
   ]
  },
  {
   "cell_type": "code",
   "execution_count": 10,
   "metadata": {},
   "outputs": [
    {
     "data": {
      "text/html": [
       "<div>\n",
       "<style scoped>\n",
       "    .dataframe tbody tr th:only-of-type {\n",
       "        vertical-align: middle;\n",
       "    }\n",
       "\n",
       "    .dataframe tbody tr th {\n",
       "        vertical-align: top;\n",
       "    }\n",
       "\n",
       "    .dataframe thead tr th {\n",
       "        text-align: left;\n",
       "    }\n",
       "\n",
       "    .dataframe thead tr:last-of-type th {\n",
       "        text-align: right;\n",
       "    }\n",
       "</style>\n",
       "<table border=\"1\" class=\"dataframe\">\n",
       "  <thead>\n",
       "    <tr>\n",
       "      <th></th>\n",
       "      <th>USER_ID</th>\n",
       "      <th colspan=\"4\" halign=\"left\">REVENUE</th>\n",
       "    </tr>\n",
       "    <tr>\n",
       "      <th></th>\n",
       "      <th>nunique</th>\n",
       "      <th>sum</th>\n",
       "      <th>mean</th>\n",
       "      <th>median</th>\n",
       "      <th>count</th>\n",
       "    </tr>\n",
       "    <tr>\n",
       "      <th>VARIANT_NAME</th>\n",
       "      <th></th>\n",
       "      <th></th>\n",
       "      <th></th>\n",
       "      <th></th>\n",
       "      <th></th>\n",
       "    </tr>\n",
       "  </thead>\n",
       "  <tbody>\n",
       "    <tr>\n",
       "      <th>control</th>\n",
       "      <td>2390</td>\n",
       "      <td>470.56000</td>\n",
       "      <td>0.15551</td>\n",
       "      <td>0.00000</td>\n",
       "      <td>3026</td>\n",
       "    </tr>\n",
       "    <tr>\n",
       "      <th>variant</th>\n",
       "      <td>2393</td>\n",
       "      <td>179.32000</td>\n",
       "      <td>0.05891</td>\n",
       "      <td>0.00000</td>\n",
       "      <td>3044</td>\n",
       "    </tr>\n",
       "  </tbody>\n",
       "</table>\n",
       "</div>"
      ],
      "text/plain": [
       "             USER_ID   REVENUE                      \n",
       "             nunique       sum    mean  median count\n",
       "VARIANT_NAME                                        \n",
       "control         2390 470.56000 0.15551 0.00000  3026\n",
       "variant         2393 179.32000 0.05891 0.00000  3044"
      ]
     },
     "execution_count": 10,
     "metadata": {},
     "output_type": "execute_result"
    }
   ],
   "source": [
    "df.groupby(by='VARIANT_NAME').agg({'USER_ID': 'nunique',\n",
    "                                               'REVENUE': ['sum', 'mean', 'median', 'count']})"
   ]
  },
  {
   "cell_type": "code",
   "execution_count": 11,
   "metadata": {},
   "outputs": [
    {
     "data": {
      "text/html": [
       "<div>\n",
       "<style scoped>\n",
       "    .dataframe tbody tr th:only-of-type {\n",
       "        vertical-align: middle;\n",
       "    }\n",
       "\n",
       "    .dataframe tbody tr th {\n",
       "        vertical-align: top;\n",
       "    }\n",
       "\n",
       "    .dataframe thead th {\n",
       "        text-align: right;\n",
       "    }\n",
       "</style>\n",
       "<table border=\"1\" class=\"dataframe\">\n",
       "  <thead>\n",
       "    <tr style=\"text-align: right;\">\n",
       "      <th></th>\n",
       "      <th>count</th>\n",
       "      <th>median</th>\n",
       "      <th>mean</th>\n",
       "      <th>std</th>\n",
       "      <th>max</th>\n",
       "      <th>sum</th>\n",
       "    </tr>\n",
       "    <tr>\n",
       "      <th>USER_ID</th>\n",
       "      <th></th>\n",
       "      <th></th>\n",
       "      <th></th>\n",
       "      <th></th>\n",
       "      <th></th>\n",
       "      <th></th>\n",
       "    </tr>\n",
       "  </thead>\n",
       "  <tbody>\n",
       "    <tr>\n",
       "      <th>3342</th>\n",
       "      <td>1</td>\n",
       "      <td>196.01000</td>\n",
       "      <td>196.01000</td>\n",
       "      <td>NaN</td>\n",
       "      <td>196.01000</td>\n",
       "      <td>196.01000</td>\n",
       "    </tr>\n",
       "    <tr>\n",
       "      <th>2166</th>\n",
       "      <td>2</td>\n",
       "      <td>14.66000</td>\n",
       "      <td>14.66000</td>\n",
       "      <td>20.73237</td>\n",
       "      <td>29.32000</td>\n",
       "      <td>29.32000</td>\n",
       "    </tr>\n",
       "    <tr>\n",
       "      <th>7356</th>\n",
       "      <td>1</td>\n",
       "      <td>23.04000</td>\n",
       "      <td>23.04000</td>\n",
       "      <td>NaN</td>\n",
       "      <td>23.04000</td>\n",
       "      <td>23.04000</td>\n",
       "    </tr>\n",
       "    <tr>\n",
       "      <th>1053</th>\n",
       "      <td>4</td>\n",
       "      <td>0.00000</td>\n",
       "      <td>5.01750</td>\n",
       "      <td>10.03500</td>\n",
       "      <td>20.07000</td>\n",
       "      <td>20.07000</td>\n",
       "    </tr>\n",
       "    <tr>\n",
       "      <th>3684</th>\n",
       "      <td>1</td>\n",
       "      <td>19.47000</td>\n",
       "      <td>19.47000</td>\n",
       "      <td>NaN</td>\n",
       "      <td>19.47000</td>\n",
       "      <td>19.47000</td>\n",
       "    </tr>\n",
       "    <tr>\n",
       "      <th>...</th>\n",
       "      <td>...</td>\n",
       "      <td>...</td>\n",
       "      <td>...</td>\n",
       "      <td>...</td>\n",
       "      <td>...</td>\n",
       "      <td>...</td>\n",
       "    </tr>\n",
       "    <tr>\n",
       "      <th>3363</th>\n",
       "      <td>1</td>\n",
       "      <td>0.00000</td>\n",
       "      <td>0.00000</td>\n",
       "      <td>NaN</td>\n",
       "      <td>0.00000</td>\n",
       "      <td>0.00000</td>\n",
       "    </tr>\n",
       "    <tr>\n",
       "      <th>3362</th>\n",
       "      <td>1</td>\n",
       "      <td>0.00000</td>\n",
       "      <td>0.00000</td>\n",
       "      <td>NaN</td>\n",
       "      <td>0.00000</td>\n",
       "      <td>0.00000</td>\n",
       "    </tr>\n",
       "    <tr>\n",
       "      <th>3361</th>\n",
       "      <td>1</td>\n",
       "      <td>0.00000</td>\n",
       "      <td>0.00000</td>\n",
       "      <td>NaN</td>\n",
       "      <td>0.00000</td>\n",
       "      <td>0.00000</td>\n",
       "    </tr>\n",
       "    <tr>\n",
       "      <th>3360</th>\n",
       "      <td>1</td>\n",
       "      <td>0.00000</td>\n",
       "      <td>0.00000</td>\n",
       "      <td>NaN</td>\n",
       "      <td>0.00000</td>\n",
       "      <td>0.00000</td>\n",
       "    </tr>\n",
       "    <tr>\n",
       "      <th>9998</th>\n",
       "      <td>1</td>\n",
       "      <td>0.00000</td>\n",
       "      <td>0.00000</td>\n",
       "      <td>NaN</td>\n",
       "      <td>0.00000</td>\n",
       "      <td>0.00000</td>\n",
       "    </tr>\n",
       "  </tbody>\n",
       "</table>\n",
       "<p>4783 rows × 6 columns</p>\n",
       "</div>"
      ],
      "text/plain": [
       "         count    median      mean      std       max       sum\n",
       "USER_ID                                                        \n",
       "3342         1 196.01000 196.01000      NaN 196.01000 196.01000\n",
       "2166         2  14.66000  14.66000 20.73237  29.32000  29.32000\n",
       "7356         1  23.04000  23.04000      NaN  23.04000  23.04000\n",
       "1053         4   0.00000   5.01750 10.03500  20.07000  20.07000\n",
       "3684         1  19.47000  19.47000      NaN  19.47000  19.47000\n",
       "...        ...       ...       ...      ...       ...       ...\n",
       "3363         1   0.00000   0.00000      NaN   0.00000   0.00000\n",
       "3362         1   0.00000   0.00000      NaN   0.00000   0.00000\n",
       "3361         1   0.00000   0.00000      NaN   0.00000   0.00000\n",
       "3360         1   0.00000   0.00000      NaN   0.00000   0.00000\n",
       "9998         1   0.00000   0.00000      NaN   0.00000   0.00000\n",
       "\n",
       "[4783 rows x 6 columns]"
      ]
     },
     "execution_count": 11,
     "metadata": {},
     "output_type": "execute_result"
    }
   ],
   "source": [
    "# A/B Groups & Target Summary Stats\n",
    "df.groupby(\"USER_ID\")['REVENUE'].agg([\"count\", \"median\", \"mean\", \"std\", \"max\", 'sum']).sort_values(by='sum', ascending=False)"
   ]
  },
  {
   "cell_type": "code",
   "execution_count": 12,
   "metadata": {},
   "outputs": [
    {
     "name": "stdout",
     "output_type": "stream",
     "text": [
      "Lower bound is :0.039794372950474055\n",
      "Upper bound is : 0.18154874841311563\n"
     ]
    }
   ],
   "source": [
    "print(f'Lower bound is :{sms.DescrStatsW(df[\"REVENUE\"]).tconfint_mean(alpha=.05)[0]}\\nUpper bound is : {sms.DescrStatsW(df[\"REVENUE\"]).tconfint_mean(alpha=.03)[1]}')"
   ]
  },
  {
   "cell_type": "code",
   "execution_count": 13,
   "metadata": {},
   "outputs": [
    {
     "data": {
      "text/plain": [
       "Text(0.5, 1.0, 'Revnue Per Group')"
      ]
     },
     "execution_count": 13,
     "metadata": {},
     "output_type": "execute_result"
    },
    {
     "data": {
      "image/png": "[encoded data removed]",
      "text/plain": [
       "<Figure size 2000x500 with 1 Axes>"
      ]
     },
     "metadata": {},
     "output_type": "display_data"
    }
   ],
   "source": [
    "df[df['VARIANT_NAME'] == \"control\"].reset_index().set_index(\"index\")['REVENUE'].plot(legend = True, label = \"control\", figsize = (20,5))\n",
    "df[df['VARIANT_NAME'] == \"variant\"].reset_index().set_index(\"index\")['REVENUE'].plot(legend = True, label = \"variant\")\n",
    "plt.title('revnue per group'.title(),fontsize = 20)"
   ]
  },
  {
   "attachments": {},
   "cell_type": "markdown",
   "metadata": {},
   "source": [
    "The data sames to contains alot of outliers \n",
    "<br>\n",
    "Will use interquartile range to remove the extreme values "
   ]
  },
  {
   "cell_type": "code",
   "execution_count": 14,
   "metadata": {},
   "outputs": [],
   "source": [
    "def outlier_thresholds(dataframe, variable):\n",
    "    quartile1 = dataframe[variable].quantile(0.01)\n",
    "    quartile3 = dataframe[variable].quantile(0.99)\n",
    "    interquantile_range = quartile3 - quartile1\n",
    "    up_limit = quartile3 + 1.5 * interquantile_range\n",
    "    low_limit = quartile1 - 1.5 * interquantile_range\n",
    "    return low_limit.round(), up_limit.round()\n",
    "\n",
    "\n",
    "def replace_with_thresholds(dataframe, variable):\n",
    "    low_limit, up_limit = outlier_thresholds(dataframe, variable)\n",
    "    dataframe.loc[(dataframe[variable] < low_limit), variable] = low_limit\n",
    "    dataframe.loc[(dataframe[variable] > up_limit), variable] = up_limit\n",
    "    \n",
    "replace_with_thresholds(df, \"REVENUE\")"
   ]
  },
  {
   "cell_type": "code",
   "execution_count": 15,
   "metadata": {},
   "outputs": [
    {
     "data": {
      "text/plain": [
       "Text(0.5, 1.0, 'Revnue Per Group(After Removeing Outlier)')"
      ]
     },
     "execution_count": 15,
     "metadata": {},
     "output_type": "execute_result"
    },
    {
     "data": {
      "image/png": "[encoded data removed]",
      "text/plain": [
       "<Figure size 2000x500 with 1 Axes>"
      ]
     },
     "metadata": {},
     "output_type": "display_data"
    }
   ],
   "source": [
    "df[df['VARIANT_NAME'] == \"control\"].reset_index().set_index(\"index\")['REVENUE'].plot(legend = True, label = \"control\", figsize = (20,5))\n",
    "df[df['VARIANT_NAME'] == \"variant\"].reset_index().set_index(\"index\")['REVENUE'].plot(legend = True, label = \"variant\")\n",
    "plt.title('revnue per group(after removeing outlier)'.title(),fontsize = 20)"
   ]
  },
  {
   "cell_type": "code",
   "execution_count": 16,
   "metadata": {},
   "outputs": [
    {
     "data": {
      "text/plain": [
       "(0.03595388879674289, 0.05730476029716155)"
      ]
     },
     "execution_count": 16,
     "metadata": {},
     "output_type": "execute_result"
    }
   ],
   "source": [
    "sms.DescrStatsW(df[\"REVENUE\"]).tconfint_mean()"
   ]
  },
  {
   "attachments": {},
   "cell_type": "markdown",
   "metadata": {},
   "source": [
    "See if there is any diffrent between *control* and *variant* in Revenue"
   ]
  },
  {
   "cell_type": "code",
   "execution_count": 17,
   "metadata": {},
   "outputs": [
    {
     "data": {
      "text/html": [
       "<div>\n",
       "<style scoped>\n",
       "    .dataframe tbody tr th:only-of-type {\n",
       "        vertical-align: middle;\n",
       "    }\n",
       "\n",
       "    .dataframe tbody tr th {\n",
       "        vertical-align: top;\n",
       "    }\n",
       "\n",
       "    .dataframe thead tr th {\n",
       "        text-align: left;\n",
       "    }\n",
       "</style>\n",
       "<table border=\"1\" class=\"dataframe\">\n",
       "  <thead>\n",
       "    <tr>\n",
       "      <th></th>\n",
       "      <th>VARIANT_NAME</th>\n",
       "      <th colspan=\"2\" halign=\"left\">REVENUE</th>\n",
       "      <th>REVENUE prec</th>\n",
       "    </tr>\n",
       "    <tr>\n",
       "      <th></th>\n",
       "      <th></th>\n",
       "      <th>sum</th>\n",
       "      <th>count</th>\n",
       "      <th></th>\n",
       "    </tr>\n",
       "  </thead>\n",
       "  <tbody>\n",
       "    <tr>\n",
       "      <th>0</th>\n",
       "      <td>control</td>\n",
       "      <td>165.06000</td>\n",
       "      <td>3026</td>\n",
       "      <td>58.31685</td>\n",
       "    </tr>\n",
       "    <tr>\n",
       "      <th>1</th>\n",
       "      <td>variant</td>\n",
       "      <td>117.98000</td>\n",
       "      <td>3044</td>\n",
       "      <td>41.68315</td>\n",
       "    </tr>\n",
       "  </tbody>\n",
       "</table>\n",
       "</div>"
      ],
      "text/plain": [
       "  VARIANT_NAME   REVENUE       REVENUE prec\n",
       "                     sum count             \n",
       "0      control 165.06000  3026     58.31685\n",
       "1      variant 117.98000  3044     41.68315"
      ]
     },
     "execution_count": 17,
     "metadata": {},
     "output_type": "execute_result"
    }
   ],
   "source": [
    "tot_revenue=df['REVENUE'].sum()\n",
    "REVENUE=df.groupby('VARIANT_NAME').agg({'REVENUE': ['sum', 'count']}).reset_index()\n",
    "REVENUE['REVENUE prec']=REVENUE['REVENUE']['sum']/tot_revenue*100\n",
    "REVENUE"
   ]
  },
  {
   "attachments": {},
   "cell_type": "markdown",
   "metadata": {},
   "source": [
    "the *control* verison is acuaualy giveing more revenue than the *variant* by around 16%"
   ]
  },
  {
   "attachments": {},
   "cell_type": "markdown",
   "metadata": {},
   "source": [
    "Lets run the A/B to be more sure "
   ]
  },
  {
   "attachments": {},
   "cell_type": "markdown",
   "metadata": {},
   "source": [
    "# A/B Testing \n",
    "## steps:\n",
    "* Check normality\n",
    "* If Normal Distribution, check homogeneity\n",
    "* Split & Define Control Group & Test Group\n",
    "* Apply Shapiro Test for normality\n",
    "* If parametric apply Levene Test for homogeneity of variances\n",
    "* If Parametric + homogeneity of variances apply T-Test\n",
    "* If Parametric - homogeneity of variances apply Welch Test\n",
    "* If Non-parametric apply Mann Whitney U Test directly"
   ]
  },
  {
   "attachments": {},
   "cell_type": "markdown",
   "metadata": {},
   "source": [
    "## Check Normality"
   ]
  },
  {
   "cell_type": "code",
   "execution_count": 29,
   "metadata": {},
   "outputs": [
    {
     "name": "stdout",
     "output_type": "stream",
     "text": [
      "Not Normal\n"
     ]
    }
   ],
   "source": [
    "from scipy.stats import shapiro\n",
    "groupA = df[df['VARIANT_NAME'] == 'control']['REVENUE']\n",
    "groupB = df[df['VARIANT_NAME'] == 'variant']['REVENUE']\n",
    "Distribution=('Normal Distribution' if shapiro(groupA)[1] < 0.05 == False and shapiro(groupB)[1] == False else 'Not Normal')\n",
    "print(Distribution)"
   ]
  },
  {
   "cell_type": "code",
   "execution_count": 48,
   "metadata": {},
   "outputs": [
    {
     "data": {
      "text/plain": [
       "7    0.00000\n",
       "9    0.00000\n",
       "10   0.00000\n",
       "11   0.00000\n",
       "12   0.00000\n",
       "Name: REVENUE, dtype: float64"
      ]
     },
     "execution_count": 48,
     "metadata": {},
     "output_type": "execute_result"
    }
   ],
   "source": [
    "groupA.head()"
   ]
  },
  {
   "cell_type": "code",
   "execution_count": 62,
   "metadata": {},
   "outputs": [
    {
     "data": {
      "image/png": "[encoded data removed]",
      "text/plain": [
       "<Figure size 1100x500 with 2 Axes>"
      ]
     },
     "metadata": {},
     "output_type": "display_data"
    }
   ],
   "source": [
    "plt.figure(figsize=(11,5))\n",
    "plt.subplot(1, 2, 1)\n",
    "sns.distplot(groupA, bins=6)\n",
    "plt.title('group A'.title())\n",
    "plt.subplot(1, 2, 2)\n",
    "sns.distplot(groupA, bins=6)\n",
    "plt.title('group B'.title())\n",
    "plt.suptitle('Data skewness'.title(),fontsize=15)\n",
    "plt.show()"
   ]
  },
  {
   "attachments": {},
   "cell_type": "markdown",
   "metadata": {},
   "source": [
    "Both Distributions is not normal (Postive or right Skewed)"
   ]
  },
  {
   "attachments": {},
   "cell_type": "markdown",
   "metadata": {},
   "source": [
    "### Apply Mann Whitney U Test directly"
   ]
  },
  {
   "cell_type": "code",
   "execution_count": 63,
   "metadata": {},
   "outputs": [
    {
     "name": "stdout",
     "output_type": "stream",
     "text": [
      "        Test Type      AB Hypothesis  p-value                  Comment\n",
      "0  Non-Parametric  Fail to Reject H0  0.24485  A/B groups are similar!\n"
     ]
    }
   ],
   "source": [
    "import scipy.stats as stats\n",
    "ttest = stats.mannwhitneyu(groupA, groupB)[1]\n",
    "# H0: M1 == M2 - False\n",
    "# H1: M1 != M2 - True\n",
    "temp = pd.DataFrame({\n",
    "        \"AB Hypothesis\":[ttest < 0.05], \n",
    "        \"p-value\":[ttest]\n",
    "    })\n",
    "temp[\"Test Type\"]=(\"Non-Parametric\" if Distribution=='Not Normal' else 'Parametric')\n",
    "temp[\"AB Hypothesis\"] = np.where(temp[\"AB Hypothesis\"] == False, \"Fail to Reject H0\", \"Reject H0\")\n",
    "temp[\"Comment\"] = np.where(temp[\"AB Hypothesis\"] == \"Fail to Reject H0\", \"A/B groups are similar!\", \"A/B groups are not similar!\")\n",
    "temp = temp[[\"Test Type\",\"AB Hypothesis\", \"p-value\", \"Comment\"]]\n",
    "print(temp)"
   ]
  },
  {
   "attachments": {},
   "cell_type": "markdown",
   "metadata": {},
   "source": [
    "### Here we observe that there is no statistical difference on the revenues of the control and variant variables.Since p value is greater than 0.05\n",
    "### -> H0 HYPOTESIS IS NOT REJECTED!"
   ]
  }
 ],
 "metadata": {
  "kernelspec": {
   "display_name": "Python 3",
   "language": "python",
   "name": "python3"
  },
  "language_info": {
   "codemirror_mode": {
    "name": "ipython",
    "version": 3
   },
   "file_extension": ".py",
   "mimetype": "text/x-python",
   "name": "python",
   "nbconvert_exporter": "python",
   "pygments_lexer": "ipython3",
   "version": "3.9.13"
  },
  "orig_nbformat": 4
 },
 "nbformat": 4,
 "nbformat_minor": 2
}
